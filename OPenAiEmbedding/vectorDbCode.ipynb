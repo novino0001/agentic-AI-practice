{
 "cells": [
  {
   "cell_type": "code",
   "execution_count": 1,
   "metadata": {},
   "outputs": [
    {
     "data": {
      "text/plain": [
       "True"
      ]
     },
     "execution_count": 1,
     "metadata": {},
     "output_type": "execute_result"
    }
   ],
   "source": [
    "from dotenv import load_dotenv\n",
    "load_dotenv()"
   ]
  },
  {
   "cell_type": "code",
   "execution_count": 1,
   "metadata": {},
   "outputs": [],
   "source": [
    "import os\n",
    "from dotenv import load_dotenv\n",
    "os.environ[\"OPENAI_API_KEY\"] = os.getenv(\"OPENAI_API_KEY\")\n",
    "os.environ[\"GROQ_API_KEY\"] = os.getenv(\"GROQ_API_KEY\")\n",
    "os.environ[\"LANGCHAIN_PROJECT\"] = os.getenv(\"LANGCHAIN_PROJECT\")\n",
    "os.environ['HF_TOKEN']=os.getenv(\"HF_TOKEN\")"
   ]
  },
  {
   "cell_type": "code",
   "execution_count": 2,
   "metadata": {},
   "outputs": [],
   "source": [
    "from langchain_openai import OpenAIEmbeddings\n",
    "\n",
    "embeddings = OpenAIEmbeddings(model=\"text-embedding-3-large\")"
   ]
  },
  {
   "cell_type": "code",
   "execution_count": null,
   "metadata": {},
   "outputs": [],
   "source": [
    "embeddings.embed_query(\"aur kya kr rha h\")"
   ]
  },
  {
   "cell_type": "code",
   "execution_count": null,
   "metadata": {},
   "outputs": [],
   "source": [
    "dim_len = embeddings.embed_query(\"Hello, how are you?\")\n",
    "print(dim_len)"
   ]
  },
  {
   "cell_type": "code",
   "execution_count": 5,
   "metadata": {},
   "outputs": [
    {
     "data": {
      "text/plain": [
       "3072"
      ]
     },
     "execution_count": 5,
     "metadata": {},
     "output_type": "execute_result"
    }
   ],
   "source": [
    "len(dim_len)"
   ]
  },
  {
   "cell_type": "code",
   "execution_count": 6,
   "metadata": {},
   "outputs": [],
   "source": [
    "from sklearn.metrics.pairwise import cosine_similarity"
   ]
  },
  {
   "cell_type": "code",
   "execution_count": 7,
   "metadata": {},
   "outputs": [],
   "source": [
    "documents=[\"what is a capital of USA?\",\n",
    "           \"Who is a president of USA?\",\n",
    "           \"Who is a prime minister of India?\"]"
   ]
  },
  {
   "cell_type": "code",
   "execution_count": null,
   "metadata": {},
   "outputs": [],
   "source": [
    "doc_embeddings=embeddings.embed_documents(documents)\n",
    "doc_embeddings"
   ]
  },
  {
   "cell_type": "code",
   "execution_count": 9,
   "metadata": {},
   "outputs": [],
   "source": [
    "my_query=\"Narendra modi is prime minister of india?\""
   ]
  },
  {
   "cell_type": "code",
   "execution_count": 10,
   "metadata": {},
   "outputs": [],
   "source": [
    "query_embedding=embeddings.embed_query(my_query)"
   ]
  },
  {
   "cell_type": "code",
   "execution_count": 11,
   "metadata": {},
   "outputs": [
    {
     "data": {
      "text/plain": [
       "array([[0.17597817, 0.31412641, 0.64803648]])"
      ]
     },
     "execution_count": 11,
     "metadata": {},
     "output_type": "execute_result"
    }
   ],
   "source": [
    "cosine_similarity([query_embedding],doc_embeddings)"
   ]
  },
  {
   "cell_type": "code",
   "execution_count": 12,
   "metadata": {},
   "outputs": [],
   "source": [
    "from sklearn.metrics.pairwise import euclidean_distances"
   ]
  },
  {
   "cell_type": "code",
   "execution_count": 14,
   "metadata": {},
   "outputs": [
    {
     "data": {
      "text/plain": [
       "array([[1.28376157, 1.17121613, 0.83900363]])"
      ]
     },
     "execution_count": 14,
     "metadata": {},
     "output_type": "execute_result"
    }
   ],
   "source": [
    "euclidean_distances([query_embedding],doc_embeddings)"
   ]
  },
  {
   "cell_type": "code",
   "execution_count": 15,
   "metadata": {},
   "outputs": [],
   "source": [
    "import faiss\n",
    "from langchain_community.vectorstores import FAISS\n",
    "from langchain_community.docstore.in_memory import InMemoryDocstore"
   ]
  },
  {
   "cell_type": "code",
   "execution_count": 21,
   "metadata": {},
   "outputs": [],
   "source": [
    "index=faiss.IndexFlatL2(3072)"
   ]
  },
  {
   "cell_type": "code",
   "execution_count": 22,
   "metadata": {},
   "outputs": [
    {
     "data": {
      "text/plain": [
       "<faiss.swigfaiss_avx2.IndexFlatL2; proxy of <Swig Object of type 'faiss::IndexFlatL2 *' at 0x0000019D46DB8750> >"
      ]
     },
     "execution_count": 22,
     "metadata": {},
     "output_type": "execute_result"
    }
   ],
   "source": [
    "index"
   ]
  },
  {
   "cell_type": "code",
   "execution_count": 23,
   "metadata": {},
   "outputs": [],
   "source": [
    "vector_store=FAISS(\n",
    "    embedding_function=embeddings,\n",
    "    index=index,\n",
    "    docstore=InMemoryDocstore(),\n",
    "    index_to_docstore_id={},\n",
    ")"
   ]
  },
  {
   "cell_type": "code",
   "execution_count": 24,
   "metadata": {},
   "outputs": [
    {
     "data": {
      "text/plain": [
       "['c4406cf2-d2e9-44f1-8915-80a544cb3534',\n",
       " 'bdef99e5-2e54-42a9-8c3c-d65a208fd1bb',\n",
       " '7c4944b1-6ca8-4a87-99c8-8eaf1bce9f4f']"
      ]
     },
     "execution_count": 24,
     "metadata": {},
     "output_type": "execute_result"
    }
   ],
   "source": [
    "vector_store.add_texts([\"AI is future\",\"AI is powerful\",\"Dogs are cute\"])"
   ]
  },
  {
   "cell_type": "code",
   "execution_count": 25,
   "metadata": {},
   "outputs": [
    {
     "data": {
      "text/plain": [
       "{0: 'c4406cf2-d2e9-44f1-8915-80a544cb3534',\n",
       " 1: 'bdef99e5-2e54-42a9-8c3c-d65a208fd1bb',\n",
       " 2: '7c4944b1-6ca8-4a87-99c8-8eaf1bce9f4f'}"
      ]
     },
     "execution_count": 25,
     "metadata": {},
     "output_type": "execute_result"
    }
   ],
   "source": [
    "vector_store.index_to_docstore_id"
   ]
  },
  {
   "cell_type": "code",
   "execution_count": 26,
   "metadata": {},
   "outputs": [],
   "source": [
    "results = vector_store.similarity_search(\"Tell me about AI\", k=3)"
   ]
  },
  {
   "cell_type": "code",
   "execution_count": 27,
   "metadata": {},
   "outputs": [
    {
     "data": {
      "text/plain": [
       "[Document(id='c4406cf2-d2e9-44f1-8915-80a544cb3534', metadata={}, page_content='AI is future'),\n",
       " Document(id='bdef99e5-2e54-42a9-8c3c-d65a208fd1bb', metadata={}, page_content='AI is powerful'),\n",
       " Document(id='7c4944b1-6ca8-4a87-99c8-8eaf1bce9f4f', metadata={}, page_content='Dogs are cute')]"
      ]
     },
     "execution_count": 27,
     "metadata": {},
     "output_type": "execute_result"
    }
   ],
   "source": [
    "results"
   ]
  },
  {
   "cell_type": "markdown",
   "metadata": {},
   "source": [
    "\n",
    "| Feature               | `Flat`                | `IVF` (Inverted File Index)        | `HNSW` (Graph-based Index)          |\n",
    "| --------------------- | --------------------- | ---------------------------------- | ----------------------------------- |\n",
    "| Type of Search     | Exact                 | Approximate (cluster-based)        | Approximate (graph-based traversal) |\n",
    "| Speed               | Slow (linear scan)    | Fast (search only in top clusters) | Very Fast (graph walk)              |\n",
    "\n"
   ]
  },
  {
   "cell_type": "markdown",
   "metadata": {},
   "source": [
    "| Dataset Size              | Recommended Index                 |\n",
    "| ------------------------- | --------------------------------- |\n",
    "| UPTO 1L                     | `IndexFlatL2` or `IndexFlatIP`    |\n",
    "| UPTO 1M                  | `IndexIVFFlat` or `IndexHNSWFlat` |\n",
    "| > 1M                      | `IndexIVFPQ` or `IndexHNSWFlat`   |"
   ]
  },
  {
   "cell_type": "code",
   "execution_count": 28,
   "metadata": {},
   "outputs": [
    {
     "data": {
      "text/plain": [
       "[Document(metadata={'producer': 'PyFPDF 1.7.2 http://pyfpdf.googlecode.com/', 'creator': 'PyPDF', 'creationdate': 'D:20250607130752', 'source': 'IPL_Season_Summary_2008_2025.pdf', 'total_pages': 18, 'page': 0, 'page_label': '1'}, page_content='IPL Season Summary (2008 - 2025)\\nIPL 2008 Summary\\nWinner: Rajasthan Royals\\nRunner-Up: Chennai Super Kings\\nFinal Venue: DY Patil Stadium, Navi Mumbai\\nSummary: Shane Warne led Rajasthan to a fairytale win.\\nPage 1'),\n",
       " Document(metadata={'producer': 'PyFPDF 1.7.2 http://pyfpdf.googlecode.com/', 'creator': 'PyPDF', 'creationdate': 'D:20250607130752', 'source': 'IPL_Season_Summary_2008_2025.pdf', 'total_pages': 18, 'page': 1, 'page_label': '2'}, page_content='IPL Season Summary (2008 - 2025)\\nIPL 2009 Summary\\nWinner: Deccan Chargers\\nRunner-Up: RCB\\nFinal Venue: Wanderers, Johannesburg\\nSummary: Tournament held in South Africa due to elections.\\nPage 2'),\n",
       " Document(metadata={'producer': 'PyFPDF 1.7.2 http://pyfpdf.googlecode.com/', 'creator': 'PyPDF', 'creationdate': 'D:20250607130752', 'source': 'IPL_Season_Summary_2008_2025.pdf', 'total_pages': 18, 'page': 2, 'page_label': '3'}, page_content='IPL Season Summary (2008 - 2025)\\nIPL 2010 Summary\\nWinner: Chennai Super Kings\\nRunner-Up: Mumbai Indians\\nFinal Venue: DY Patil Stadium\\nSummary: CSK won their first IPL title.\\nPage 3'),\n",
       " Document(metadata={'producer': 'PyFPDF 1.7.2 http://pyfpdf.googlecode.com/', 'creator': 'PyPDF', 'creationdate': 'D:20250607130752', 'source': 'IPL_Season_Summary_2008_2025.pdf', 'total_pages': 18, 'page': 3, 'page_label': '4'}, page_content='IPL Season Summary (2008 - 2025)\\nIPL 2011 Summary\\nWinner: Chennai Super Kings\\nRunner-Up: RCB\\nFinal Venue: MA Chidambaram Stadium\\nSummary: CSK won back-to-back titles.\\nPage 4'),\n",
       " Document(metadata={'producer': 'PyFPDF 1.7.2 http://pyfpdf.googlecode.com/', 'creator': 'PyPDF', 'creationdate': 'D:20250607130752', 'source': 'IPL_Season_Summary_2008_2025.pdf', 'total_pages': 18, 'page': 4, 'page_label': '5'}, page_content='IPL Season Summary (2008 - 2025)\\nIPL 2012 Summary\\nWinner: Kolkata Knight Riders\\nRunner-Up: Chennai Super Kings\\nFinal Venue: Chennai\\nSummary: KKR lifted their maiden title.\\nPage 5'),\n",
       " Document(metadata={'producer': 'PyFPDF 1.7.2 http://pyfpdf.googlecode.com/', 'creator': 'PyPDF', 'creationdate': 'D:20250607130752', 'source': 'IPL_Season_Summary_2008_2025.pdf', 'total_pages': 18, 'page': 5, 'page_label': '6'}, page_content='IPL Season Summary (2008 - 2025)\\nIPL 2013 Summary\\nWinner: Mumbai Indians\\nRunner-Up: Chennai Super Kings\\nFinal Venue: Eden Gardens\\nSummary: MI won their first title.\\nPage 6'),\n",
       " Document(metadata={'producer': 'PyFPDF 1.7.2 http://pyfpdf.googlecode.com/', 'creator': 'PyPDF', 'creationdate': 'D:20250607130752', 'source': 'IPL_Season_Summary_2008_2025.pdf', 'total_pages': 18, 'page': 6, 'page_label': '7'}, page_content='IPL Season Summary (2008 - 2025)\\nIPL 2014 Summary\\nWinner: Kolkata Knight Riders\\nRunner-Up: Kings XI Punjab\\nFinal Venue: Bengaluru\\nSummary: KKR claimed their second trophy.\\nPage 7'),\n",
       " Document(metadata={'producer': 'PyFPDF 1.7.2 http://pyfpdf.googlecode.com/', 'creator': 'PyPDF', 'creationdate': 'D:20250607130752', 'source': 'IPL_Season_Summary_2008_2025.pdf', 'total_pages': 18, 'page': 7, 'page_label': '8'}, page_content='IPL Season Summary (2008 - 2025)\\nIPL 2015 Summary\\nWinner: Mumbai Indians\\nRunner-Up: Chennai Super Kings\\nFinal Venue: Eden Gardens\\nSummary: MI secured their second IPL crown.\\nPage 8'),\n",
       " Document(metadata={'producer': 'PyFPDF 1.7.2 http://pyfpdf.googlecode.com/', 'creator': 'PyPDF', 'creationdate': 'D:20250607130752', 'source': 'IPL_Season_Summary_2008_2025.pdf', 'total_pages': 18, 'page': 8, 'page_label': '9'}, page_content=\"IPL Season Summary (2008 - 2025)\\nIPL 2016 Summary\\nWinner: Sunrisers Hyderabad\\nRunner-Up: RCB\\nFinal Venue: Bengaluru\\nSummary: Warner's SRH triumphed over Kohli's RCB.\\nPage 9\"),\n",
       " Document(metadata={'producer': 'PyFPDF 1.7.2 http://pyfpdf.googlecode.com/', 'creator': 'PyPDF', 'creationdate': 'D:20250607130752', 'source': 'IPL_Season_Summary_2008_2025.pdf', 'total_pages': 18, 'page': 9, 'page_label': '10'}, page_content='IPL Season Summary (2008 - 2025)\\nIPL 2017 Summary\\nWinner: Mumbai Indians\\nRunner-Up: Rising Pune Supergiant\\nFinal Venue: Hyderabad\\nSummary: MI won a thriller by 1 run.\\nPage 10'),\n",
       " Document(metadata={'producer': 'PyFPDF 1.7.2 http://pyfpdf.googlecode.com/', 'creator': 'PyPDF', 'creationdate': 'D:20250607130752', 'source': 'IPL_Season_Summary_2008_2025.pdf', 'total_pages': 18, 'page': 10, 'page_label': '11'}, page_content='IPL Season Summary (2008 - 2025)\\nIPL 2018 Summary\\nWinner: Chennai Super Kings\\nRunner-Up: Sunrisers Hyderabad\\nFinal Venue: Mumbai\\nSummary: CSK made a stunning comeback after 2-year ban.\\nPage 11'),\n",
       " Document(metadata={'producer': 'PyFPDF 1.7.2 http://pyfpdf.googlecode.com/', 'creator': 'PyPDF', 'creationdate': 'D:20250607130752', 'source': 'IPL_Season_Summary_2008_2025.pdf', 'total_pages': 18, 'page': 11, 'page_label': '12'}, page_content='IPL Season Summary (2008 - 2025)\\nIPL 2019 Summary\\nWinner: Mumbai Indians\\nRunner-Up: Chennai Super Kings\\nFinal Venue: Hyderabad\\nSummary: MI beat CSK again in another close final.\\nPage 12'),\n",
       " Document(metadata={'producer': 'PyFPDF 1.7.2 http://pyfpdf.googlecode.com/', 'creator': 'PyPDF', 'creationdate': 'D:20250607130752', 'source': 'IPL_Season_Summary_2008_2025.pdf', 'total_pages': 18, 'page': 12, 'page_label': '13'}, page_content='IPL Season Summary (2008 - 2025)\\nIPL 2020 Summary\\nWinner: Mumbai Indians\\nRunner-Up: Delhi Capitals\\nFinal Venue: Dubai\\nSummary: Pandemic-hit season held in UAE.\\nPage 13'),\n",
       " Document(metadata={'producer': 'PyFPDF 1.7.2 http://pyfpdf.googlecode.com/', 'creator': 'PyPDF', 'creationdate': 'D:20250607130752', 'source': 'IPL_Season_Summary_2008_2025.pdf', 'total_pages': 18, 'page': 13, 'page_label': '14'}, page_content='IPL Season Summary (2008 - 2025)\\nIPL 2021 Summary\\nWinner: Chennai Super Kings\\nRunner-Up: Kolkata Knight Riders\\nFinal Venue: Dubai\\nSummary: CSK claimed their 4th title.\\nPage 14'),\n",
       " Document(metadata={'producer': 'PyFPDF 1.7.2 http://pyfpdf.googlecode.com/', 'creator': 'PyPDF', 'creationdate': 'D:20250607130752', 'source': 'IPL_Season_Summary_2008_2025.pdf', 'total_pages': 18, 'page': 14, 'page_label': '15'}, page_content='IPL Season Summary (2008 - 2025)\\nIPL 2022 Summary\\nWinner: Gujarat Titans\\nRunner-Up: Rajasthan Royals\\nFinal Venue: Ahmedabad\\nSummary: GT won in their debut season.\\nPage 15'),\n",
       " Document(metadata={'producer': 'PyFPDF 1.7.2 http://pyfpdf.googlecode.com/', 'creator': 'PyPDF', 'creationdate': 'D:20250607130752', 'source': 'IPL_Season_Summary_2008_2025.pdf', 'total_pages': 18, 'page': 15, 'page_label': '16'}, page_content=\"IPL Season Summary (2008 - 2025)\\nIPL 2023 Summary\\nWinner: Chennai Super Kings\\nRunner-Up: Gujarat Titans\\nFinal Venue: Ahmedabad\\nSummary: Dhoni-led CSK equaled MI's 5 titles.\\nPage 16\"),\n",
       " Document(metadata={'producer': 'PyFPDF 1.7.2 http://pyfpdf.googlecode.com/', 'creator': 'PyPDF', 'creationdate': 'D:20250607130752', 'source': 'IPL_Season_Summary_2008_2025.pdf', 'total_pages': 18, 'page': 16, 'page_label': '17'}, page_content='IPL Season Summary (2008 - 2025)\\nIPL 2024 Summary\\nWinner: Mumbai Indians\\nRunner-Up: Rajasthan Royals\\nFinal Venue: Kolkata\\nSummary: MI won their record 6th title.\\nPage 17'),\n",
       " Document(metadata={'producer': 'PyFPDF 1.7.2 http://pyfpdf.googlecode.com/', 'creator': 'PyPDF', 'creationdate': 'D:20250607130752', 'source': 'IPL_Season_Summary_2008_2025.pdf', 'total_pages': 18, 'page': 17, 'page_label': '18'}, page_content='IPL Season Summary (2008 - 2025)\\nIPL 2025 Summary\\nWinner: RCB\\nRunner-Up: Punjab Kings\\nFinal Venue: Ahmedabad\\nSummary: RCB finally lifted their first IPL trophy.\\nPage 18')]"
      ]
     },
     "execution_count": 28,
     "metadata": {},
     "output_type": "execute_result"
    }
   ],
   "source": [
    "from langchain_community.document_loaders import PyPDFLoader\n",
    "loader = PyPDFLoader('IPL_Season_Summary_2008_2025.pdf')\n",
    "pdf_data = loader.load()\n",
    "pdf_data"
   ]
  },
  {
   "cell_type": "code",
   "execution_count": 29,
   "metadata": {},
   "outputs": [],
   "source": [
    "index=faiss.IndexFlatIP(3072)\n",
    "vector_store=FAISS(\n",
    "    embedding_function=embeddings,\n",
    "    index=index,\n",
    "    docstore=InMemoryDocstore(),\n",
    "    index_to_docstore_id={},\n",
    ")"
   ]
  },
  {
   "cell_type": "code",
   "execution_count": 30,
   "metadata": {},
   "outputs": [
    {
     "data": {
      "text/plain": [
       "['763272bf-cd32-4f1b-8e77-96a831490d53',\n",
       " '2c2a527a-39ae-4c43-b356-fa38a30be4a3',\n",
       " '3b8ff115-e861-4819-a030-9a575652bae7',\n",
       " '5abc41f6-a43f-4779-b323-ffbcaed8fdf3',\n",
       " 'bdd99bb8-51eb-49b9-ab7d-df7078f0072b',\n",
       " '3f8ab664-8a70-4f69-b4ac-cc030d703748',\n",
       " 'ee245eae-859e-446b-ad53-f62828e141bc',\n",
       " 'e6a1c09a-86f6-4afc-a2e7-b538d7d1e45e',\n",
       " '7347dc42-b3e5-4f70-ba0e-c4901c2abda9',\n",
       " '6e1ef39a-b171-41cc-8910-a09f9cabe25e',\n",
       " 'ccd6d324-bbab-4472-a1be-936a2e4552bf',\n",
       " '6809b495-8e5b-49e3-87af-f2624f77458a',\n",
       " '19ca5f08-d23a-4d91-ab58-110e2c9a91c4',\n",
       " 'ed3b2434-6a1d-42df-aee9-24a0072bf328',\n",
       " 'a3f2ec50-f68a-40ed-aa28-f5684884611d',\n",
       " 'c15a9a02-4acb-4136-adb3-0acb8ae562fb',\n",
       " '7cc5020a-88f8-4185-b6c3-149cca42ca16',\n",
       " '0e8c9496-950b-41f1-b761-4e6eea8a0186']"
      ]
     },
     "execution_count": 30,
     "metadata": {},
     "output_type": "execute_result"
    }
   ],
   "source": [
    "vector_store.add_documents(pdf_data)"
   ]
  },
  {
   "cell_type": "code",
   "execution_count": 33,
   "metadata": {},
   "outputs": [],
   "source": [
    "answer = vector_store.similarity_search(\n",
    "    \"2016 me ipl kon jeeta tha\",\n",
    "    k=2 #hyperparameter\n",
    "    \n",
    ")"
   ]
  },
  {
   "cell_type": "code",
   "execution_count": 34,
   "metadata": {},
   "outputs": [
    {
     "data": {
      "text/plain": [
       "\"IPL Season Summary (2008 - 2025)\\nIPL 2016 Summary\\nWinner: Sunrisers Hyderabad\\nRunner-Up: RCB\\nFinal Venue: Bengaluru\\nSummary: Warner's SRH triumphed over Kohli's RCB.\\nPage 9\""
      ]
     },
     "execution_count": 34,
     "metadata": {},
     "output_type": "execute_result"
    }
   ],
   "source": [
    "answer[0].page_content"
   ]
  },
  {
   "cell_type": "markdown",
   "metadata": {},
   "source": [
    "NOW TRY TO MAKE STRUCTURED ANSWER"
   ]
  },
  {
   "cell_type": "code",
   "execution_count": 44,
   "metadata": {},
   "outputs": [],
   "source": [
    "from langchain_openai import ChatOpenAI\n",
    "model=ChatOpenAI(model = \"o1-mini\")"
   ]
  },
  {
   "cell_type": "code",
   "execution_count": 35,
   "metadata": {},
   "outputs": [],
   "source": [
    "retriever=vector_store.as_retriever(\n",
    "    search_kwargs={\"k\": 2} #hyperparameter\n",
    ")"
   ]
  },
  {
   "cell_type": "code",
   "execution_count": 36,
   "metadata": {},
   "outputs": [],
   "source": [
    "from langchain import hub\n",
    "prompt = hub.pull(\"rlm/rag-prompt\")"
   ]
  },
  {
   "cell_type": "code",
   "execution_count": 37,
   "metadata": {},
   "outputs": [],
   "source": [
    "from langchain_core.output_parsers import StrOutputParser\n",
    "from langchain_core.runnables import RunnablePassthrough"
   ]
  },
  {
   "cell_type": "code",
   "execution_count": 38,
   "metadata": {},
   "outputs": [],
   "source": [
    "def format_docs(docs):\n",
    "    return \"\\n\\n\".join(doc.page_content for doc in docs)"
   ]
  },
  {
   "cell_type": "code",
   "execution_count": 43,
   "metadata": {},
   "outputs": [
    {
     "data": {
      "text/plain": [
       "\"IPL Season Summary (2008 - 2025)\\nIPL 2016 Summary\\nWinner: Sunrisers Hyderabad\\nRunner-Up: RCB\\nFinal Venue: Bengaluru\\nSummary: Warner's SRH triumphed over Kohli's RCB.\\nPage 9\""
      ]
     },
     "execution_count": 43,
     "metadata": {},
     "output_type": "execute_result"
    }
   ],
   "source": [
    "answer = vector_store.similarity_search(\n",
    "    \"2016 me ipl kon jeeta tha\",\n",
    "    k=2 #hyperparameter\n",
    "    \n",
    ")\n",
    "answer[0].page_content"
   ]
  },
  {
   "cell_type": "code",
   "execution_count": 40,
   "metadata": {},
   "outputs": [],
   "source": [
    "rag_chain = (\n",
    "    {\"context\": retriever | format_docs, \"question\": RunnablePassthrough()}\n",
    "    | prompt\n",
    "    | model\n",
    "    | StrOutputParser()\n",
    ")"
   ]
  },
  {
   "cell_type": "code",
   "execution_count": 41,
   "metadata": {},
   "outputs": [
    {
     "data": {
      "text/plain": [
       "\"Sunrisers Hyderabad won the IPL in 2016. They defeated Royal Challengers Bangalore in the final held in Bengaluru. This victory marked SRH's first IPL title.\""
      ]
     },
     "execution_count": 41,
     "metadata": {},
     "output_type": "execute_result"
    }
   ],
   "source": [
    "rag_chain.invoke(\"2016 me ipl kon jeeta tha\")"
   ]
  }
 ],
 "metadata": {
  "kernelspec": {
   "display_name": "venv",
   "language": "python",
   "name": "python3"
  },
  "language_info": {
   "codemirror_mode": {
    "name": "ipython",
    "version": 3
   },
   "file_extension": ".py",
   "mimetype": "text/x-python",
   "name": "python",
   "nbconvert_exporter": "python",
   "pygments_lexer": "ipython3",
   "version": "3.11.4"
  }
 },
 "nbformat": 4,
 "nbformat_minor": 2
}
